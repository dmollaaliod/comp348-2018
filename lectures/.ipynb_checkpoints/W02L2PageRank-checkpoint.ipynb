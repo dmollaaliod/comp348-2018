{
 "cells": [
  {
   "cell_type": "markdown",
   "metadata": {},
   "source": [
    "### A PageRank iteration in Python"
   ]
  },
  {
   "cell_type": "markdown",
   "metadata": {},
   "source": [
    "![image](pagerank.png)"
   ]
  },
  {
   "cell_type": "code",
   "execution_count": 1,
   "metadata": {
    "collapsed": true
   },
   "outputs": [],
   "source": [
    "import numpy as np"
   ]
  },
  {
   "cell_type": "code",
   "execution_count": 2,
   "metadata": {},
   "outputs": [
    {
     "data": {
      "text/plain": [
       "array([[ 0.25],\n",
       "       [ 0.25],\n",
       "       [ 0.25],\n",
       "       [ 0.25]])"
      ]
     },
     "execution_count": 2,
     "metadata": {},
     "output_type": "execute_result"
    }
   ],
   "source": [
    "# Create the transition matrix\n",
    "A = np.array([[0.,    0.,    1., 1./2.],\n",
    "              [1./3., 0.,    0., 0.   ],\n",
    "              [1./3., 1./2., 0., 1./2.],\n",
    "              [1./3., 1./2., 0., 0.   ]])\n",
    "\n",
    "# Add the damping factor\n",
    "M = 0.85*A + 0.15*(1./4.*np.ones((4,4)))\n",
    "\n",
    "# Initial set of weights\n",
    "PR = 1./4.*np.ones((4,1))\n",
    "PR"
   ]
  },
  {
   "cell_type": "code",
   "execution_count": 3,
   "metadata": {},
   "outputs": [
    {
     "data": {
      "text/plain": [
       "array([[ 0.35625   ],\n",
       "       [ 0.10833333],\n",
       "       [ 0.32083333],\n",
       "       [ 0.21458333]])"
      ]
     },
     "execution_count": 3,
     "metadata": {},
     "output_type": "execute_result"
    }
   ],
   "source": [
    "# First iteration\n",
    "PR = np.dot(M,PR)\n",
    "PR"
   ]
  },
  {
   "cell_type": "code",
   "execution_count": 4,
   "metadata": {},
   "outputs": [
    {
     "data": {
      "text/plain": [
       "array([[ 0.40140625],\n",
       "       [ 0.1384375 ],\n",
       "       [ 0.27567708],\n",
       "       [ 0.18447917]])"
      ]
     },
     "execution_count": 4,
     "metadata": {},
     "output_type": "execute_result"
    }
   ],
   "source": [
    "# Second iteration\n",
    "PR = np.dot(M,PR)\n",
    "PR"
   ]
  },
  {
   "cell_type": "code",
   "execution_count": 5,
   "metadata": {},
   "outputs": [
    {
     "data": {
      "text/plain": [
       "array([[ 0.35022917],\n",
       "       [ 0.15123177],\n",
       "       [ 0.28847135],\n",
       "       [ 0.21006771]])"
      ]
     },
     "execution_count": 5,
     "metadata": {},
     "output_type": "execute_result"
    }
   ],
   "source": [
    "# Third iteration\n",
    "PR = np.dot(M,PR)\n",
    "PR"
   ]
  },
  {
   "cell_type": "markdown",
   "metadata": {},
   "source": [
    "### Iteration until convergence"
   ]
  },
  {
   "cell_type": "code",
   "execution_count": 6,
   "metadata": {},
   "outputs": [
    {
     "name": "stdout",
     "output_type": "stream",
     "text": [
      "PR after 5 iterations:\n",
      "[[ 0.36966846]\n",
      " [ 0.14289417]\n",
      " [ 0.28643227]\n",
      " [ 0.2010051 ]]\n"
     ]
    }
   ],
   "source": [
    "epsylon = 0.01\n",
    "iterations = 0\n",
    "PR = 1./4.*np.ones((4,1))\n",
    "oldPR = np.zeros((4,1))\n",
    "while max(np.abs(oldPR-PR)) > epsylon:\n",
    "    oldPR = PR\n",
    "    PR = np.dot(M,PR)\n",
    "    iterations +=1\n",
    "print(\"PR after\",iterations,\"iterations:\")\n",
    "print(PR)"
   ]
  },
  {
   "cell_type": "code",
   "execution_count": null,
   "metadata": {
    "collapsed": true
   },
   "outputs": [],
   "source": []
  }
 ],
 "metadata": {
  "kernelspec": {
   "display_name": "Python 3",
   "language": "python",
   "name": "python3"
  },
  "language_info": {
   "codemirror_mode": {
    "name": "ipython",
    "version": 3
   },
   "file_extension": ".py",
   "mimetype": "text/x-python",
   "name": "python",
   "nbconvert_exporter": "python",
   "pygments_lexer": "ipython3",
   "version": "3.6.1"
  }
 },
 "nbformat": 4,
 "nbformat_minor": 1
}
